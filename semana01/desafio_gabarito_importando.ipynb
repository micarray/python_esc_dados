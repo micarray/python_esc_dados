{
  "cells": [
    {
      "cell_type": "markdown",
      "metadata": {
        "id": "view-in-github",
        "colab_type": "text"
      },
      "source": [
        "<a href=\"https://colab.research.google.com/github/micarray/python_esc_dados/blob/main/semana01/desafio_gabarito_importando.ipynb\" target=\"_parent\"><img src=\"https://colab.research.google.com/assets/colab-badge.svg\" alt=\"Open In Colab\"/></a>"
      ]
    },
    {
      "cell_type": "markdown",
      "id": "b0c02ae8-da85-499a-99c9-8c3da9e1ae05",
      "metadata": {
        "id": "b0c02ae8-da85-499a-99c9-8c3da9e1ae05"
      },
      "source": [
        "# Explorando dados\n",
        "\n",
        "Neste desafio colocaremos em prática alguns conceitos apresentado nas aulas. Para isso, usaremos o conjunto de dados [Candidatos - 2022](https://dadosabertos.tse.jus.br/dataset/candidatos-2022) disponível no Portal de Dados Abertos do Tribunal Superior Eleitoral.\n",
        "\n",
        "Os dados também podem ser encontrados na pasta \"Dados\" deste repositório.\n",
        "\n",
        "Siga as orientações abaixo para completar o desafio:"
      ]
    },
    {
      "cell_type": "markdown",
      "id": "d2bf34dd-2879-4dd6-b65b-4944a34c03d4",
      "metadata": {
        "id": "d2bf34dd-2879-4dd6-b65b-4944a34c03d4"
      },
      "source": [
        "# Importe os pacotes necessários"
      ]
    },
    {
      "cell_type": "code",
      "execution_count": 1,
      "id": "b286617f-43b9-4c20-8b0e-5ae0da7e4a9f",
      "metadata": {
        "id": "b286617f-43b9-4c20-8b0e-5ae0da7e4a9f"
      },
      "outputs": [],
      "source": [
        "import pandas as pd\n",
        "import glob as gb"
      ]
    },
    {
      "cell_type": "markdown",
      "id": "ced62f05-5e3c-4565-b13c-f359fb8c35bf",
      "metadata": {
        "id": "ced62f05-5e3c-4565-b13c-f359fb8c35bf"
      },
      "source": [
        "# Crie uma lista com o título dos arquivos usando a biblioteca Gloob"
      ]
    },
    {
      "cell_type": "code",
      "execution_count": 2,
      "id": "45b0cb8f-d567-4274-877f-53e8faa7d1be",
      "metadata": {
        "id": "45b0cb8f-d567-4274-877f-53e8faa7d1be"
      },
      "outputs": [],
      "source": [
        "arquivos = gb.glob('/content/consulta_cand_*.csv')"
      ]
    },
    {
      "cell_type": "code",
      "execution_count": 3,
      "id": "441c3129-301b-4ebc-a325-8af71313dedb",
      "metadata": {
        "colab": {
          "base_uri": "https://localhost:8080/"
        },
        "id": "441c3129-301b-4ebc-a325-8af71313dedb",
        "outputId": "ed4905cd-df4b-42dc-bf20-1066ea591f32"
      },
      "outputs": [
        {
          "output_type": "execute_result",
          "data": {
            "text/plain": [
              "['/content/consulta_cand_2022_AM.csv', '/content/consulta_cand_2022_PA.csv']"
            ]
          },
          "metadata": {},
          "execution_count": 3
        }
      ],
      "source": [
        "arquivos"
      ]
    },
    {
      "cell_type": "markdown",
      "id": "cf29db73-447b-4375-bad5-2df7aa7c4743",
      "metadata": {
        "id": "cf29db73-447b-4375-bad5-2df7aa7c4743"
      },
      "source": [
        "# Crie um laço (loop) para ler todos os arquivos da lista (usando a biblioteca Pandas) e armazenar os dataframes em uma lista"
      ]
    },
    {
      "cell_type": "code",
      "execution_count": 4,
      "id": "dd63f03d-147e-4fda-ba61-9edb0bdee254",
      "metadata": {
        "id": "dd63f03d-147e-4fda-ba61-9edb0bdee254"
      },
      "outputs": [],
      "source": [
        "lista_df = []"
      ]
    },
    {
      "cell_type": "code",
      "execution_count": 9,
      "id": "ea0cf56a-9120-40bd-a3ac-d40d816a1fe2",
      "metadata": {
        "id": "ea0cf56a-9120-40bd-a3ac-d40d816a1fe2"
      },
      "outputs": [],
      "source": [
        "for csv in arquivos:\n",
        "  df = pd.read_csv(csv, encoding=\"Latin 1\", engine= 'python', sep=';', na_values=['#NULO#', -1])\n",
        "  lista_df.append(df)"
      ]
    },
    {
      "cell_type": "code",
      "execution_count": 10,
      "id": "b7746711-f240-42e5-80ab-dd5339bd31f4",
      "metadata": {
        "colab": {
          "base_uri": "https://localhost:8080/"
        },
        "id": "b7746711-f240-42e5-80ab-dd5339bd31f4",
        "outputId": "f2938ff9-55ef-4cf8-c1c6-c07cda142213"
      },
      "outputs": [
        {
          "output_type": "execute_result",
          "data": {
            "text/plain": [
              "(1056, 11)"
            ]
          },
          "metadata": {},
          "execution_count": 10
        }
      ],
      "source": [
        "lista_df[0].shape"
      ]
    },
    {
      "cell_type": "markdown",
      "id": "310bca4e-c1c2-4030-a427-ecda54601106",
      "metadata": {
        "id": "310bca4e-c1c2-4030-a427-ecda54601106"
      },
      "source": [
        "# Concatene todos os dataframes da lista"
      ]
    },
    {
      "cell_type": "code",
      "execution_count": 6,
      "id": "997a08ff-f355-40c1-9257-cf4a196517bd",
      "metadata": {
        "id": "997a08ff-f355-40c1-9257-cf4a196517bd"
      },
      "outputs": [],
      "source": [
        "candidaturas = pd.concat(lista_df, axis=0, ignore_index=True)"
      ]
    },
    {
      "cell_type": "code",
      "execution_count": 11,
      "id": "33bc1b95-1ca7-41be-ba40-afc4f447fd3c",
      "metadata": {
        "colab": {
          "base_uri": "https://localhost:8080/"
        },
        "id": "33bc1b95-1ca7-41be-ba40-afc4f447fd3c",
        "outputId": "e83b82f8-cb5d-46d1-cfc6-5b6660bf5149"
      },
      "outputs": [
        {
          "output_type": "execute_result",
          "data": {
            "text/plain": [
              "(2650, 11)"
            ]
          },
          "metadata": {},
          "execution_count": 11
        }
      ],
      "source": [
        "candidaturas.shape"
      ]
    },
    {
      "cell_type": "markdown",
      "id": "0c1bee1c-a55d-4152-98cd-471028d2d73a",
      "metadata": {
        "id": "0c1bee1c-a55d-4152-98cd-471028d2d73a"
      },
      "source": [
        "# Apresente 5 linhas aleatórias do dataframe"
      ]
    },
    {
      "cell_type": "code",
      "execution_count": 12,
      "id": "b7b7124c-f6fa-4d90-b157-88678e82076e",
      "metadata": {
        "colab": {
          "base_uri": "https://localhost:8080/",
          "height": 531
        },
        "id": "b7b7124c-f6fa-4d90-b157-88678e82076e",
        "outputId": "2ef58dd8-e283-4fb5-9485-770c185d52de"
      },
      "outputs": [
        {
          "output_type": "execute_result",
          "data": {
            "text/plain": [
              "      DT_GERACAO HH_GERACAO  AA_ELEICAO SG_UF  CD_TIPO_ELEICAO  \\\n",
              "1820  06/08/2023   19:32:18        2022    PA                2   \n",
              "1960  06/08/2023   19:32:18        2022    PA                2   \n",
              "1954  06/08/2023   19:32:18        2022    PA                2   \n",
              "1264  06/08/2023   19:32:18        2022    PA                2   \n",
              "1768  06/08/2023   19:32:18        2022    PA                2   \n",
              "\n",
              "        NM_TIPO_ELEICAO  CD_ELEICAO                      DS_ELEICAO  \\\n",
              "1820  ELEIÇÃO ORDINÁRIA         546  ELEIÇÕES GERAIS ESTADUAIS 2022   \n",
              "1960  ELEIÇÃO ORDINÁRIA         546  ELEIÇÕES GERAIS ESTADUAIS 2022   \n",
              "1954  ELEIÇÃO ORDINÁRIA         546  ELEIÇÕES GERAIS ESTADUAIS 2022   \n",
              "1264  ELEIÇÃO ORDINÁRIA         546  ELEIÇÕES GERAIS ESTADUAIS 2022   \n",
              "1768  ELEIÇÃO ORDINÁRIA         546  ELEIÇÕES GERAIS ESTADUAIS 2022   \n",
              "\n",
              "      SQ_CANDIDATO  NR_ORDEM                                       DS_URL  \n",
              "1820  140001611647         3     https://www.instagram.com/flavioverasv7/  \n",
              "1960  140001598304         8           https://t.me/delegadofederaleguchi  \n",
              "1954  140001676883         2        https://www.instagram.com/paulatitan/  \n",
              "1264  140001611660         3  https://www.tiktok.com/@hesio.pa?lang=pt-BR  \n",
              "1768  140001600257         2         https://gettr.com/user/professorvlad  "
            ],
            "text/html": [
              "\n",
              "\n",
              "  <div id=\"df-16973e26-45f4-4863-a9fa-9867f6355381\">\n",
              "    <div class=\"colab-df-container\">\n",
              "      <div>\n",
              "<style scoped>\n",
              "    .dataframe tbody tr th:only-of-type {\n",
              "        vertical-align: middle;\n",
              "    }\n",
              "\n",
              "    .dataframe tbody tr th {\n",
              "        vertical-align: top;\n",
              "    }\n",
              "\n",
              "    .dataframe thead th {\n",
              "        text-align: right;\n",
              "    }\n",
              "</style>\n",
              "<table border=\"1\" class=\"dataframe\">\n",
              "  <thead>\n",
              "    <tr style=\"text-align: right;\">\n",
              "      <th></th>\n",
              "      <th>DT_GERACAO</th>\n",
              "      <th>HH_GERACAO</th>\n",
              "      <th>AA_ELEICAO</th>\n",
              "      <th>SG_UF</th>\n",
              "      <th>CD_TIPO_ELEICAO</th>\n",
              "      <th>NM_TIPO_ELEICAO</th>\n",
              "      <th>CD_ELEICAO</th>\n",
              "      <th>DS_ELEICAO</th>\n",
              "      <th>SQ_CANDIDATO</th>\n",
              "      <th>NR_ORDEM</th>\n",
              "      <th>DS_URL</th>\n",
              "    </tr>\n",
              "  </thead>\n",
              "  <tbody>\n",
              "    <tr>\n",
              "      <th>1820</th>\n",
              "      <td>06/08/2023</td>\n",
              "      <td>19:32:18</td>\n",
              "      <td>2022</td>\n",
              "      <td>PA</td>\n",
              "      <td>2</td>\n",
              "      <td>ELEIÇÃO ORDINÁRIA</td>\n",
              "      <td>546</td>\n",
              "      <td>ELEIÇÕES GERAIS ESTADUAIS 2022</td>\n",
              "      <td>140001611647</td>\n",
              "      <td>3</td>\n",
              "      <td>https://www.instagram.com/flavioverasv7/</td>\n",
              "    </tr>\n",
              "    <tr>\n",
              "      <th>1960</th>\n",
              "      <td>06/08/2023</td>\n",
              "      <td>19:32:18</td>\n",
              "      <td>2022</td>\n",
              "      <td>PA</td>\n",
              "      <td>2</td>\n",
              "      <td>ELEIÇÃO ORDINÁRIA</td>\n",
              "      <td>546</td>\n",
              "      <td>ELEIÇÕES GERAIS ESTADUAIS 2022</td>\n",
              "      <td>140001598304</td>\n",
              "      <td>8</td>\n",
              "      <td>https://t.me/delegadofederaleguchi</td>\n",
              "    </tr>\n",
              "    <tr>\n",
              "      <th>1954</th>\n",
              "      <td>06/08/2023</td>\n",
              "      <td>19:32:18</td>\n",
              "      <td>2022</td>\n",
              "      <td>PA</td>\n",
              "      <td>2</td>\n",
              "      <td>ELEIÇÃO ORDINÁRIA</td>\n",
              "      <td>546</td>\n",
              "      <td>ELEIÇÕES GERAIS ESTADUAIS 2022</td>\n",
              "      <td>140001676883</td>\n",
              "      <td>2</td>\n",
              "      <td>https://www.instagram.com/paulatitan/</td>\n",
              "    </tr>\n",
              "    <tr>\n",
              "      <th>1264</th>\n",
              "      <td>06/08/2023</td>\n",
              "      <td>19:32:18</td>\n",
              "      <td>2022</td>\n",
              "      <td>PA</td>\n",
              "      <td>2</td>\n",
              "      <td>ELEIÇÃO ORDINÁRIA</td>\n",
              "      <td>546</td>\n",
              "      <td>ELEIÇÕES GERAIS ESTADUAIS 2022</td>\n",
              "      <td>140001611660</td>\n",
              "      <td>3</td>\n",
              "      <td>https://www.tiktok.com/@hesio.pa?lang=pt-BR</td>\n",
              "    </tr>\n",
              "    <tr>\n",
              "      <th>1768</th>\n",
              "      <td>06/08/2023</td>\n",
              "      <td>19:32:18</td>\n",
              "      <td>2022</td>\n",
              "      <td>PA</td>\n",
              "      <td>2</td>\n",
              "      <td>ELEIÇÃO ORDINÁRIA</td>\n",
              "      <td>546</td>\n",
              "      <td>ELEIÇÕES GERAIS ESTADUAIS 2022</td>\n",
              "      <td>140001600257</td>\n",
              "      <td>2</td>\n",
              "      <td>https://gettr.com/user/professorvlad</td>\n",
              "    </tr>\n",
              "  </tbody>\n",
              "</table>\n",
              "</div>\n",
              "      <button class=\"colab-df-convert\" onclick=\"convertToInteractive('df-16973e26-45f4-4863-a9fa-9867f6355381')\"\n",
              "              title=\"Convert this dataframe to an interactive table.\"\n",
              "              style=\"display:none;\">\n",
              "\n",
              "  <svg xmlns=\"http://www.w3.org/2000/svg\" height=\"24px\"viewBox=\"0 0 24 24\"\n",
              "       width=\"24px\">\n",
              "    <path d=\"M0 0h24v24H0V0z\" fill=\"none\"/>\n",
              "    <path d=\"M18.56 5.44l.94 2.06.94-2.06 2.06-.94-2.06-.94-.94-2.06-.94 2.06-2.06.94zm-11 1L8.5 8.5l.94-2.06 2.06-.94-2.06-.94L8.5 2.5l-.94 2.06-2.06.94zm10 10l.94 2.06.94-2.06 2.06-.94-2.06-.94-.94-2.06-.94 2.06-2.06.94z\"/><path d=\"M17.41 7.96l-1.37-1.37c-.4-.4-.92-.59-1.43-.59-.52 0-1.04.2-1.43.59L10.3 9.45l-7.72 7.72c-.78.78-.78 2.05 0 2.83L4 21.41c.39.39.9.59 1.41.59.51 0 1.02-.2 1.41-.59l7.78-7.78 2.81-2.81c.8-.78.8-2.07 0-2.86zM5.41 20L4 18.59l7.72-7.72 1.47 1.35L5.41 20z\"/>\n",
              "  </svg>\n",
              "      </button>\n",
              "\n",
              "\n",
              "\n",
              "    <div id=\"df-bcb39d97-bddd-45fe-b839-efad3241814f\">\n",
              "      <button class=\"colab-df-quickchart\" onclick=\"quickchart('df-bcb39d97-bddd-45fe-b839-efad3241814f')\"\n",
              "              title=\"Suggest charts.\"\n",
              "              style=\"display:none;\">\n",
              "\n",
              "<svg xmlns=\"http://www.w3.org/2000/svg\" height=\"24px\"viewBox=\"0 0 24 24\"\n",
              "     width=\"24px\">\n",
              "    <g>\n",
              "        <path d=\"M19 3H5c-1.1 0-2 .9-2 2v14c0 1.1.9 2 2 2h14c1.1 0 2-.9 2-2V5c0-1.1-.9-2-2-2zM9 17H7v-7h2v7zm4 0h-2V7h2v10zm4 0h-2v-4h2v4z\"/>\n",
              "    </g>\n",
              "</svg>\n",
              "      </button>\n",
              "    </div>\n",
              "\n",
              "<style>\n",
              "  .colab-df-quickchart {\n",
              "    background-color: #E8F0FE;\n",
              "    border: none;\n",
              "    border-radius: 50%;\n",
              "    cursor: pointer;\n",
              "    display: none;\n",
              "    fill: #1967D2;\n",
              "    height: 32px;\n",
              "    padding: 0 0 0 0;\n",
              "    width: 32px;\n",
              "  }\n",
              "\n",
              "  .colab-df-quickchart:hover {\n",
              "    background-color: #E2EBFA;\n",
              "    box-shadow: 0px 1px 2px rgba(60, 64, 67, 0.3), 0px 1px 3px 1px rgba(60, 64, 67, 0.15);\n",
              "    fill: #174EA6;\n",
              "  }\n",
              "\n",
              "  [theme=dark] .colab-df-quickchart {\n",
              "    background-color: #3B4455;\n",
              "    fill: #D2E3FC;\n",
              "  }\n",
              "\n",
              "  [theme=dark] .colab-df-quickchart:hover {\n",
              "    background-color: #434B5C;\n",
              "    box-shadow: 0px 1px 3px 1px rgba(0, 0, 0, 0.15);\n",
              "    filter: drop-shadow(0px 1px 2px rgba(0, 0, 0, 0.3));\n",
              "    fill: #FFFFFF;\n",
              "  }\n",
              "</style>\n",
              "\n",
              "    <script>\n",
              "      async function quickchart(key) {\n",
              "        const containerElement = document.querySelector('#' + key);\n",
              "        const charts = await google.colab.kernel.invokeFunction(\n",
              "            'suggestCharts', [key], {});\n",
              "      }\n",
              "    </script>\n",
              "\n",
              "      <script>\n",
              "\n",
              "function displayQuickchartButton(domScope) {\n",
              "  let quickchartButtonEl =\n",
              "    domScope.querySelector('#df-bcb39d97-bddd-45fe-b839-efad3241814f button.colab-df-quickchart');\n",
              "  quickchartButtonEl.style.display =\n",
              "    google.colab.kernel.accessAllowed ? 'block' : 'none';\n",
              "}\n",
              "\n",
              "        displayQuickchartButton(document);\n",
              "      </script>\n",
              "      <style>\n",
              "    .colab-df-container {\n",
              "      display:flex;\n",
              "      flex-wrap:wrap;\n",
              "      gap: 12px;\n",
              "    }\n",
              "\n",
              "    .colab-df-convert {\n",
              "      background-color: #E8F0FE;\n",
              "      border: none;\n",
              "      border-radius: 50%;\n",
              "      cursor: pointer;\n",
              "      display: none;\n",
              "      fill: #1967D2;\n",
              "      height: 32px;\n",
              "      padding: 0 0 0 0;\n",
              "      width: 32px;\n",
              "    }\n",
              "\n",
              "    .colab-df-convert:hover {\n",
              "      background-color: #E2EBFA;\n",
              "      box-shadow: 0px 1px 2px rgba(60, 64, 67, 0.3), 0px 1px 3px 1px rgba(60, 64, 67, 0.15);\n",
              "      fill: #174EA6;\n",
              "    }\n",
              "\n",
              "    [theme=dark] .colab-df-convert {\n",
              "      background-color: #3B4455;\n",
              "      fill: #D2E3FC;\n",
              "    }\n",
              "\n",
              "    [theme=dark] .colab-df-convert:hover {\n",
              "      background-color: #434B5C;\n",
              "      box-shadow: 0px 1px 3px 1px rgba(0, 0, 0, 0.15);\n",
              "      filter: drop-shadow(0px 1px 2px rgba(0, 0, 0, 0.3));\n",
              "      fill: #FFFFFF;\n",
              "    }\n",
              "  </style>\n",
              "\n",
              "      <script>\n",
              "        const buttonEl =\n",
              "          document.querySelector('#df-16973e26-45f4-4863-a9fa-9867f6355381 button.colab-df-convert');\n",
              "        buttonEl.style.display =\n",
              "          google.colab.kernel.accessAllowed ? 'block' : 'none';\n",
              "\n",
              "        async function convertToInteractive(key) {\n",
              "          const element = document.querySelector('#df-16973e26-45f4-4863-a9fa-9867f6355381');\n",
              "          const dataTable =\n",
              "            await google.colab.kernel.invokeFunction('convertToInteractive',\n",
              "                                                     [key], {});\n",
              "          if (!dataTable) return;\n",
              "\n",
              "          const docLinkHtml = 'Like what you see? Visit the ' +\n",
              "            '<a target=\"_blank\" href=https://colab.research.google.com/notebooks/data_table.ipynb>data table notebook</a>'\n",
              "            + ' to learn more about interactive tables.';\n",
              "          element.innerHTML = '';\n",
              "          dataTable['output_type'] = 'display_data';\n",
              "          await google.colab.output.renderOutput(dataTable, element);\n",
              "          const docLink = document.createElement('div');\n",
              "          docLink.innerHTML = docLinkHtml;\n",
              "          element.appendChild(docLink);\n",
              "        }\n",
              "      </script>\n",
              "    </div>\n",
              "  </div>\n"
            ]
          },
          "metadata": {},
          "execution_count": 12
        }
      ],
      "source": [
        "candidaturas.sample(5)"
      ]
    },
    {
      "cell_type": "markdown",
      "id": "a8238419-ff3d-4f00-bc36-ad1f4da01920",
      "metadata": {
        "id": "a8238419-ff3d-4f00-bc36-ad1f4da01920"
      },
      "source": [
        "# Quantas candidaturas estão em situação de reeleição?"
      ]
    },
    {
      "cell_type": "code",
      "execution_count": 13,
      "id": "28055dde-c74b-403e-bcc3-deb82a828084",
      "metadata": {
        "colab": {
          "base_uri": "https://localhost:8080/"
        },
        "id": "28055dde-c74b-403e-bcc3-deb82a828084",
        "outputId": "62c92021-84a0-4e06-89c9-e701432758d2"
      },
      "outputs": [
        {
          "output_type": "stream",
          "name": "stdout",
          "text": [
            "<class 'pandas.core.frame.DataFrame'>\n",
            "RangeIndex: 2650 entries, 0 to 2649\n",
            "Data columns (total 11 columns):\n",
            " #   Column           Non-Null Count  Dtype \n",
            "---  ------           --------------  ----- \n",
            " 0   DT_GERACAO       2650 non-null   object\n",
            " 1   HH_GERACAO       2650 non-null   object\n",
            " 2   AA_ELEICAO       2650 non-null   int64 \n",
            " 3   SG_UF            2650 non-null   object\n",
            " 4   CD_TIPO_ELEICAO  2650 non-null   int64 \n",
            " 5   NM_TIPO_ELEICAO  2650 non-null   object\n",
            " 6   CD_ELEICAO       2650 non-null   int64 \n",
            " 7   DS_ELEICAO       2650 non-null   object\n",
            " 8   SQ_CANDIDATO     2650 non-null   int64 \n",
            " 9   NR_ORDEM         2650 non-null   int64 \n",
            " 10  DS_URL           2650 non-null   object\n",
            "dtypes: int64(5), object(6)\n",
            "memory usage: 227.9+ KB\n"
          ]
        }
      ],
      "source": [
        "candidaturas.info()"
      ]
    },
    {
      "cell_type": "code",
      "execution_count": 17,
      "id": "37988c87-c6f8-4d60-83e3-c5a757557697",
      "metadata": {
        "colab": {
          "base_uri": "https://localhost:8080/"
        },
        "id": "37988c87-c6f8-4d60-83e3-c5a757557697",
        "outputId": "12c008d0-5b81-4665-b570-cdd2854e0ca0"
      },
      "outputs": [
        {
          "output_type": "execute_result",
          "data": {
            "text/plain": [
              "array([2])"
            ]
          },
          "metadata": {},
          "execution_count": 17
        }
      ],
      "source": [
        "candidaturas['CD_TIPO_ELEICAO'].unique()"
      ]
    },
    {
      "cell_type": "code",
      "execution_count": 18,
      "id": "9dbab22a-7f32-4a2c-9c59-36801b398b96",
      "metadata": {
        "id": "9dbab22a-7f32-4a2c-9c59-36801b398b96",
        "outputId": "2efa8a41-bfd2-4195-eb52-d593f4a924d8",
        "colab": {
          "base_uri": "https://localhost:8080/"
        }
      },
      "outputs": [
        {
          "output_type": "execute_result",
          "data": {
            "text/plain": [
              "2    2650\n",
              "Name: CD_TIPO_ELEICAO, dtype: int64"
            ]
          },
          "metadata": {},
          "execution_count": 18
        }
      ],
      "source": [
        "candidaturas['CD_TIPO_ELEICAO'].value_counts()"
      ]
    },
    {
      "cell_type": "markdown",
      "id": "7cd5434f-9c0d-4fb6-a3ef-ce44498fea2e",
      "metadata": {
        "id": "7cd5434f-9c0d-4fb6-a3ef-ce44498fea2e"
      },
      "source": [
        "# Quais cargos serão preenchidos nesse pleito?"
      ]
    },
    {
      "cell_type": "code",
      "execution_count": null,
      "id": "d4388824-85ee-4e8c-adbe-b1573f037017",
      "metadata": {
        "colab": {
          "base_uri": "https://localhost:8080/",
          "height": 512
        },
        "id": "d4388824-85ee-4e8c-adbe-b1573f037017",
        "outputId": "82231495-1345-4256-ceab-9e1ae42c9ac2"
      },
      "outputs": [
        {
          "output_type": "error",
          "ename": "KeyError",
          "evalue": "ignored",
          "traceback": [
            "\u001b[0;31m---------------------------------------------------------------------------\u001b[0m",
            "\u001b[0;31mKeyError\u001b[0m                                  Traceback (most recent call last)",
            "\u001b[0;32m/usr/local/lib/python3.10/dist-packages/pandas/core/indexes/base.py\u001b[0m in \u001b[0;36mget_loc\u001b[0;34m(self, key, method, tolerance)\u001b[0m\n\u001b[1;32m   3801\u001b[0m             \u001b[0;32mtry\u001b[0m\u001b[0;34m:\u001b[0m\u001b[0;34m\u001b[0m\u001b[0;34m\u001b[0m\u001b[0m\n\u001b[0;32m-> 3802\u001b[0;31m                 \u001b[0;32mreturn\u001b[0m \u001b[0mself\u001b[0m\u001b[0;34m.\u001b[0m\u001b[0m_engine\u001b[0m\u001b[0;34m.\u001b[0m\u001b[0mget_loc\u001b[0m\u001b[0;34m(\u001b[0m\u001b[0mcasted_key\u001b[0m\u001b[0;34m)\u001b[0m\u001b[0;34m\u001b[0m\u001b[0;34m\u001b[0m\u001b[0m\n\u001b[0m\u001b[1;32m   3803\u001b[0m             \u001b[0;32mexcept\u001b[0m \u001b[0mKeyError\u001b[0m \u001b[0;32mas\u001b[0m \u001b[0merr\u001b[0m\u001b[0;34m:\u001b[0m\u001b[0;34m\u001b[0m\u001b[0;34m\u001b[0m\u001b[0m\n",
            "\u001b[0;32m/usr/local/lib/python3.10/dist-packages/pandas/_libs/index.pyx\u001b[0m in \u001b[0;36mpandas._libs.index.IndexEngine.get_loc\u001b[0;34m()\u001b[0m\n",
            "\u001b[0;32m/usr/local/lib/python3.10/dist-packages/pandas/_libs/index.pyx\u001b[0m in \u001b[0;36mpandas._libs.index.IndexEngine.get_loc\u001b[0;34m()\u001b[0m\n",
            "\u001b[0;32mpandas/_libs/hashtable_class_helper.pxi\u001b[0m in \u001b[0;36mpandas._libs.hashtable.PyObjectHashTable.get_item\u001b[0;34m()\u001b[0m\n",
            "\u001b[0;32mpandas/_libs/hashtable_class_helper.pxi\u001b[0m in \u001b[0;36mpandas._libs.hashtable.PyObjectHashTable.get_item\u001b[0;34m()\u001b[0m\n",
            "\u001b[0;31mKeyError\u001b[0m: 'DS_CARGO'",
            "\nThe above exception was the direct cause of the following exception:\n",
            "\u001b[0;31mKeyError\u001b[0m                                  Traceback (most recent call last)",
            "\u001b[0;32m<ipython-input-13-f526cee09d1c>\u001b[0m in \u001b[0;36m<cell line: 1>\u001b[0;34m()\u001b[0m\n\u001b[0;32m----> 1\u001b[0;31m \u001b[0mcandidaturas\u001b[0m\u001b[0;34m[\u001b[0m\u001b[0;34m'DS_CARGO'\u001b[0m\u001b[0;34m]\u001b[0m\u001b[0;34m.\u001b[0m\u001b[0munique\u001b[0m\u001b[0;34m(\u001b[0m\u001b[0;34m)\u001b[0m\u001b[0;34m\u001b[0m\u001b[0;34m\u001b[0m\u001b[0m\n\u001b[0m",
            "\u001b[0;32m/usr/local/lib/python3.10/dist-packages/pandas/core/frame.py\u001b[0m in \u001b[0;36m__getitem__\u001b[0;34m(self, key)\u001b[0m\n\u001b[1;32m   3805\u001b[0m             \u001b[0;32mif\u001b[0m \u001b[0mself\u001b[0m\u001b[0;34m.\u001b[0m\u001b[0mcolumns\u001b[0m\u001b[0;34m.\u001b[0m\u001b[0mnlevels\u001b[0m \u001b[0;34m>\u001b[0m \u001b[0;36m1\u001b[0m\u001b[0;34m:\u001b[0m\u001b[0;34m\u001b[0m\u001b[0;34m\u001b[0m\u001b[0m\n\u001b[1;32m   3806\u001b[0m                 \u001b[0;32mreturn\u001b[0m \u001b[0mself\u001b[0m\u001b[0;34m.\u001b[0m\u001b[0m_getitem_multilevel\u001b[0m\u001b[0;34m(\u001b[0m\u001b[0mkey\u001b[0m\u001b[0;34m)\u001b[0m\u001b[0;34m\u001b[0m\u001b[0;34m\u001b[0m\u001b[0m\n\u001b[0;32m-> 3807\u001b[0;31m             \u001b[0mindexer\u001b[0m \u001b[0;34m=\u001b[0m \u001b[0mself\u001b[0m\u001b[0;34m.\u001b[0m\u001b[0mcolumns\u001b[0m\u001b[0;34m.\u001b[0m\u001b[0mget_loc\u001b[0m\u001b[0;34m(\u001b[0m\u001b[0mkey\u001b[0m\u001b[0;34m)\u001b[0m\u001b[0;34m\u001b[0m\u001b[0;34m\u001b[0m\u001b[0m\n\u001b[0m\u001b[1;32m   3808\u001b[0m             \u001b[0;32mif\u001b[0m \u001b[0mis_integer\u001b[0m\u001b[0;34m(\u001b[0m\u001b[0mindexer\u001b[0m\u001b[0;34m)\u001b[0m\u001b[0;34m:\u001b[0m\u001b[0;34m\u001b[0m\u001b[0;34m\u001b[0m\u001b[0m\n\u001b[1;32m   3809\u001b[0m                 \u001b[0mindexer\u001b[0m \u001b[0;34m=\u001b[0m \u001b[0;34m[\u001b[0m\u001b[0mindexer\u001b[0m\u001b[0;34m]\u001b[0m\u001b[0;34m\u001b[0m\u001b[0;34m\u001b[0m\u001b[0m\n",
            "\u001b[0;32m/usr/local/lib/python3.10/dist-packages/pandas/core/indexes/base.py\u001b[0m in \u001b[0;36mget_loc\u001b[0;34m(self, key, method, tolerance)\u001b[0m\n\u001b[1;32m   3802\u001b[0m                 \u001b[0;32mreturn\u001b[0m \u001b[0mself\u001b[0m\u001b[0;34m.\u001b[0m\u001b[0m_engine\u001b[0m\u001b[0;34m.\u001b[0m\u001b[0mget_loc\u001b[0m\u001b[0;34m(\u001b[0m\u001b[0mcasted_key\u001b[0m\u001b[0;34m)\u001b[0m\u001b[0;34m\u001b[0m\u001b[0;34m\u001b[0m\u001b[0m\n\u001b[1;32m   3803\u001b[0m             \u001b[0;32mexcept\u001b[0m \u001b[0mKeyError\u001b[0m \u001b[0;32mas\u001b[0m \u001b[0merr\u001b[0m\u001b[0;34m:\u001b[0m\u001b[0;34m\u001b[0m\u001b[0;34m\u001b[0m\u001b[0m\n\u001b[0;32m-> 3804\u001b[0;31m                 \u001b[0;32mraise\u001b[0m \u001b[0mKeyError\u001b[0m\u001b[0;34m(\u001b[0m\u001b[0mkey\u001b[0m\u001b[0;34m)\u001b[0m \u001b[0;32mfrom\u001b[0m \u001b[0merr\u001b[0m\u001b[0;34m\u001b[0m\u001b[0;34m\u001b[0m\u001b[0m\n\u001b[0m\u001b[1;32m   3805\u001b[0m             \u001b[0;32mexcept\u001b[0m \u001b[0mTypeError\u001b[0m\u001b[0;34m:\u001b[0m\u001b[0;34m\u001b[0m\u001b[0;34m\u001b[0m\u001b[0m\n\u001b[1;32m   3806\u001b[0m                 \u001b[0;31m# If we have a listlike key, _check_indexing_error will raise\u001b[0m\u001b[0;34m\u001b[0m\u001b[0;34m\u001b[0m\u001b[0m\n",
            "\u001b[0;31mKeyError\u001b[0m: 'DS_CARGO'"
          ]
        }
      ],
      "source": [
        "candidaturas['DS_CARGO'].unique()"
      ]
    },
    {
      "cell_type": "markdown",
      "id": "c7b17015-ce8b-4f42-aea3-6b8bcdad0df4",
      "metadata": {
        "id": "c7b17015-ce8b-4f42-aea3-6b8bcdad0df4"
      },
      "source": [
        "# Liste todas a ocupações declaradas pelas candidaturas a Câmara de Deputados Federal"
      ]
    },
    {
      "cell_type": "code",
      "execution_count": null,
      "id": "ef30c1ab-703f-4c65-8ba5-1cde6c183f88",
      "metadata": {
        "id": "ef30c1ab-703f-4c65-8ba5-1cde6c183f88"
      },
      "outputs": [],
      "source": [
        "candidaturas_dep_fed = candidaturas[candidaturas[\"DS_CARGO\"] == \"DEPUTADO FEDERAL\"].copy()"
      ]
    },
    {
      "cell_type": "code",
      "execution_count": null,
      "id": "2c1b1090-39e6-4b28-b675-fda756b307d1",
      "metadata": {
        "id": "2c1b1090-39e6-4b28-b675-fda756b307d1",
        "outputId": "f46c1c8c-ab1d-46c5-a1fb-22042fe0d1f3"
      },
      "outputs": [
        {
          "data": {
            "text/plain": [
              "array(['DEPUTADO FEDERAL'], dtype=object)"
            ]
          },
          "execution_count": 17,
          "metadata": {},
          "output_type": "execute_result"
        }
      ],
      "source": [
        "candidaturas_dep_fed['DS_CARGO'].unique()"
      ]
    },
    {
      "cell_type": "code",
      "execution_count": null,
      "id": "ba88f1ce-55c1-418f-8b55-554eb38078d3",
      "metadata": {
        "id": "ba88f1ce-55c1-418f-8b55-554eb38078d3",
        "outputId": "d62d3d11-0c2d-4f79-e663-83797e021daf"
      },
      "outputs": [
        {
          "data": {
            "text/plain": [
              "array(['ADVOGADO', 'ADMINISTRADOR', 'JORNALISTA E REDATOR',\n",
              "       'SENADOR, DEPUTADO E VEREADOR', 'DEPUTADO', 'OUTROS',\n",
              "       'OCUPANTE DE CARGO EM COMISSÃO', 'POLICIAL MILITAR',\n",
              "       'VENDEDOR DE COMÉRCIO VAREJISTA E ATACADISTA', 'AGRICULTOR',\n",
              "       'APOSENTADO (EXCETO SERVIDOR PÚBLICO)', 'EMPRESÁRIO',\n",
              "       'PROFESSOR DE ENSINO MÉDIO',\n",
              "       'TÉCNICO DE ENFERMAGEM E ASSEMELHADOS (EXCETO ENFERMEIRO)',\n",
              "       'PECUARISTA', 'MÉDICO', 'NUTRICIONISTA E ASSEMELHADOS', 'VEREADOR',\n",
              "       'VETERINÁRIO', 'DIRETOR DE EMPRESAS', 'ENGENHEIRO', 'DONA DE CASA',\n",
              "       'CORRETOR DE IMÓVEIS, SEGUROS, TÍTULOS E VALORES',\n",
              "       'SERVIDOR PÚBLICO FEDERAL', 'ECONOMISTA',\n",
              "       'VENDEDOR PRACISTA, REPRESENTANTE, CAIXEIRO-VIAJANTE E ASSEMELHADOS',\n",
              "       'SACERDOTE OU MEMBRO DE ORDEM OU SEITA RELIGIOSA', 'ENFERMEIRO',\n",
              "       'COMERCIANTE',\n",
              "       'PORTEIRO DE EDIFÍCIO, ASCENSORISTA, GARAGISTA E ZELADOR',\n",
              "       'PROFESSOR DE ENSINO FUNDAMENTAL', 'CONTADOR', 'MOTOBOY',\n",
              "       'SERVIDOR PÚBLICO CIVIL APOSENTADO',\n",
              "       'PRODUTOR DE ESPETÁCULOS PÚBLICOS', 'BIÓLOGO',\n",
              "       'PROFESSOR DE ENSINO SUPERIOR', 'MILITAR REFORMADO',\n",
              "       'TÉCNICO EM INFORMÁTICA', 'POLICIAL CIVIL', 'FONOAUDIÓLOGO',\n",
              "       'PEDAGOGO', 'BANCÁRIO E ECONOMIÁRIO', 'SERVIDOR PÚBLICO MUNICIPAL',\n",
              "       'MEMBRO DAS FORÇAS ARMADAS',\n",
              "       'LOCUTOR E COMENTARISTA DE RÁDIO E TELEVISÃO E RADIALISTA',\n",
              "       'ASSISTENTE SOCIAL', 'ODONTÓLOGO', 'AGENTE ADMINISTRATIVO',\n",
              "       'SERVIDOR PÚBLICO ESTADUAL', 'SOCIÓLOGO',\n",
              "       'ESTUDANTE, BOLSISTA, ESTAGIÁRIO E ASSEMELHADOS',\n",
              "       'BOMBEIRO MILITAR', 'ZOOTECNISTA',\n",
              "       'ATLETA PROFISSIONAL E TÉCNICO EM DESPORTOS',\n",
              "       'PROFESSOR E INSTRUTOR DE FORMAÇÃO PROFISSIONAL',\n",
              "       'SECRETÁRIO E DATILÓGRAFO',\n",
              "       'AUXILIAR DE ESCRITÓRIO E ASSEMELHADOS', 'MOTORISTA PARTICULAR',\n",
              "       'GARIMPEIRO', 'ESTETICISTA', 'VIGILANTE',\n",
              "       'CARPINTEIRO, MARCENEIRO E ASSEMELHADOS',\n",
              "       'SUPERVISOR, INSPETOR E AGENTE DE COMPRAS E VENDAS', 'COMERCIÁRIO',\n",
              "       'ANALISTA DE SISTEMAS',\n",
              "       'TÉCNICO DE OBRAS CIVIS, ESTRADAS, SANEAMENTO E ASSEMELHADOS',\n",
              "       'CANTOR E COMPOSITOR', 'FISIOTERAPEUTA E TERAPEUTA OCUPACIONAL',\n",
              "       'PESCADOR', 'RECEPCIONISTA', 'ARQUITETO', 'MASSAGISTA'],\n",
              "      dtype=object)"
            ]
          },
          "execution_count": 18,
          "metadata": {},
          "output_type": "execute_result"
        }
      ],
      "source": [
        "candidaturas_dep_fed['DS_OCUPACAO'].unique()"
      ]
    },
    {
      "cell_type": "code",
      "execution_count": null,
      "id": "40e348c7-759b-4c50-a7e3-87781098f4e8",
      "metadata": {
        "id": "40e348c7-759b-4c50-a7e3-87781098f4e8",
        "outputId": "b33d19be-4df6-432b-ed7c-4cc02eaca7f8"
      },
      "outputs": [
        {
          "data": {
            "text/plain": [
              "DS_OCUPACAO\n",
              "OUTROS                                             72\n",
              "EMPRESÁRIO                                         62\n",
              "DEPUTADO                                           30\n",
              "POLICIAL MILITAR                                   28\n",
              "ADVOGADO                                           27\n",
              "                                                   ..\n",
              "CONTADOR                                            1\n",
              "SACERDOTE OU MEMBRO DE ORDEM OU SEITA RELIGIOSA     1\n",
              "DIRETOR DE EMPRESAS                                 1\n",
              "VETERINÁRIO                                         1\n",
              "MASSAGISTA                                          1\n",
              "Name: count, Length: 73, dtype: int64"
            ]
          },
          "execution_count": 19,
          "metadata": {},
          "output_type": "execute_result"
        }
      ],
      "source": [
        "candidaturas_dep_fed['DS_OCUPACAO'].value_counts(dropna=True)"
      ]
    },
    {
      "cell_type": "markdown",
      "id": "f92cd033-7c9a-47ac-acad-d5db0035e6ff",
      "metadata": {
        "id": "f92cd033-7c9a-47ac-acad-d5db0035e6ff"
      },
      "source": [
        "# Quantos anos tería a pessoa candidata mais velha no ato da posse?"
      ]
    },
    {
      "cell_type": "code",
      "execution_count": null,
      "id": "53b023a1-812e-4587-897d-703bf0a2a746",
      "metadata": {
        "id": "53b023a1-812e-4587-897d-703bf0a2a746",
        "outputId": "895aa35c-f8bc-4c0f-dc2d-060166b0d073"
      },
      "outputs": [
        {
          "data": {
            "text/plain": [
              "81.0"
            ]
          },
          "execution_count": 20,
          "metadata": {},
          "output_type": "execute_result"
        }
      ],
      "source": [
        "candidaturas['NR_IDADE_DATA_POSSE'].max()"
      ]
    },
    {
      "cell_type": "markdown",
      "id": "de5c48c3-c0b9-418c-bba2-bb20c5312bd8",
      "metadata": {
        "id": "de5c48c3-c0b9-418c-bba2-bb20c5312bd8"
      },
      "source": [
        "# Quantos anos tería a pessoa candidata mais jovem no ato da posse?"
      ]
    },
    {
      "cell_type": "code",
      "execution_count": null,
      "id": "19c454cb-784f-48ab-8a82-61343b045bb8",
      "metadata": {
        "id": "19c454cb-784f-48ab-8a82-61343b045bb8",
        "outputId": "8f7ef794-e9a1-4729-d904-233a1c01985d"
      },
      "outputs": [
        {
          "data": {
            "text/plain": [
              "19.0"
            ]
          },
          "execution_count": 21,
          "metadata": {},
          "output_type": "execute_result"
        }
      ],
      "source": [
        "candidaturas['NR_IDADE_DATA_POSSE'].min()"
      ]
    },
    {
      "cell_type": "markdown",
      "id": "f18ae4e7-ccca-4152-9971-65c543847936",
      "metadata": {
        "id": "f18ae4e7-ccca-4152-9971-65c543847936"
      },
      "source": [
        "# Qual é o nome da pessoa candidata mais velha?"
      ]
    },
    {
      "cell_type": "code",
      "execution_count": null,
      "id": "c7059bae-72e9-4c4b-ae70-71c9085b2a1f",
      "metadata": {
        "id": "c7059bae-72e9-4c4b-ae70-71c9085b2a1f"
      },
      "outputs": [],
      "source": [
        "candidata_mais_velha = candidaturas[candidaturas['NR_IDADE_DATA_POSSE'] == 81]['NM_CANDIDATO']"
      ]
    },
    {
      "cell_type": "code",
      "execution_count": null,
      "id": "3908320a-5e1b-46ac-9df7-c9c2f7f15d64",
      "metadata": {
        "id": "3908320a-5e1b-46ac-9df7-c9c2f7f15d64",
        "outputId": "374211c2-9a8b-465c-83fe-dd8cee9f94c9"
      },
      "outputs": [
        {
          "data": {
            "text/plain": [
              "49    MARIA DE LOURDES PEREIRA DE FARIAS\n",
              "Name: NM_CANDIDATO, dtype: object"
            ]
          },
          "execution_count": 23,
          "metadata": {},
          "output_type": "execute_result"
        }
      ],
      "source": [
        "candidata_mais_velha"
      ]
    },
    {
      "cell_type": "markdown",
      "id": "f6ddfb4c-7012-4f0b-befb-f44cde4c06a8",
      "metadata": {
        "id": "f6ddfb4c-7012-4f0b-befb-f44cde4c06a8"
      },
      "source": [
        "# Qual é o nome da pessoa candidata mais jovem?"
      ]
    },
    {
      "cell_type": "code",
      "execution_count": null,
      "id": "296cf282-614d-4769-8aea-c3430aac8fa4",
      "metadata": {
        "id": "296cf282-614d-4769-8aea-c3430aac8fa4"
      },
      "outputs": [],
      "source": [
        "candidata_mais_jovem = candidaturas[candidaturas['NR_IDADE_DATA_POSSE'] == 19]['NM_CANDIDATO']"
      ]
    },
    {
      "cell_type": "code",
      "execution_count": null,
      "id": "390096bf-43d8-4ba9-b5bd-a265b343942a",
      "metadata": {
        "id": "390096bf-43d8-4ba9-b5bd-a265b343942a",
        "outputId": "360fc7fb-b742-46be-fb89-1ea32acdf7cf"
      },
      "outputs": [
        {
          "data": {
            "text/plain": [
              "462    NATALIA CRISTINA MAIA COSTA\n",
              "Name: NM_CANDIDATO, dtype: object"
            ]
          },
          "execution_count": 25,
          "metadata": {},
          "output_type": "execute_result"
        }
      ],
      "source": [
        "candidata_mais_jovem"
      ]
    },
    {
      "cell_type": "markdown",
      "id": "2499f3fc-a421-4e60-9170-d438392b9ed7",
      "metadata": {
        "id": "2499f3fc-a421-4e60-9170-d438392b9ed7"
      },
      "source": [
        "# Quantas candidaturas existem para \"Deputado federal\" seu estado?"
      ]
    },
    {
      "cell_type": "code",
      "execution_count": null,
      "id": "ae815f6f-7403-4067-af0b-175b21f45172",
      "metadata": {
        "id": "ae815f6f-7403-4067-af0b-175b21f45172"
      },
      "outputs": [],
      "source": [
        "candidaturas_ap = candidaturas[(candidaturas['SG_UF'] == 'AP') & (candidaturas[\"DS_CARGO\"] == \"DEPUTADO FEDERAL\")]"
      ]
    },
    {
      "cell_type": "code",
      "execution_count": null,
      "id": "ae660c23-4ffa-4430-8648-1cf0478accaf",
      "metadata": {
        "id": "ae660c23-4ffa-4430-8648-1cf0478accaf"
      },
      "outputs": [],
      "source": [
        "candidaturas_ap = candidaturas_ap.shape[0]"
      ]
    },
    {
      "cell_type": "code",
      "execution_count": null,
      "id": "a2898319-7703-4f3e-82fc-a3a8e75da77a",
      "metadata": {
        "id": "a2898319-7703-4f3e-82fc-a3a8e75da77a"
      },
      "outputs": [],
      "source": [
        "total_cand_dep_federal = candidaturas_dep_fed.shape[0]"
      ]
    },
    {
      "cell_type": "code",
      "execution_count": null,
      "id": "1e886622-a8ef-4aeb-80b7-7781cc8d7d69",
      "metadata": {
        "id": "1e886622-a8ef-4aeb-80b7-7781cc8d7d69",
        "outputId": "02410707-4756-4ced-9be6-5df53a85f2af"
      },
      "outputs": [
        {
          "name": "stdout",
          "output_type": "stream",
          "text": [
            "No pleito de 2022 nos estados de Amapá e Pará existem 477 pessoas candidatas a Câmara de Deputados Federal, sendo 154 no Amapá e 323 no Pará\n"
          ]
        }
      ],
      "source": [
        "print(f'No pleito de 2022 nos estados de Amapá e Pará existem {total_cand_dep_federal} pessoas candidatas a Câmara de Deputados Federal, sendo {candidaturas_ap} no Amapá e {total_cand_dep_federal-candidaturas_ap} no Pará')"
      ]
    },
    {
      "cell_type": "markdown",
      "id": "6658e4f9-9271-4f0e-b6f8-575e33e5d8c9",
      "metadata": {
        "id": "6658e4f9-9271-4f0e-b6f8-575e33e5d8c9"
      },
      "source": [
        "# Qual é a média do valor máximo de despesas de campanha?"
      ]
    },
    {
      "cell_type": "code",
      "execution_count": null,
      "id": "1b8283db-c218-44cd-908b-e4a2f041a435",
      "metadata": {
        "id": "1b8283db-c218-44cd-908b-e4a2f041a435"
      },
      "outputs": [],
      "source": [
        "soma_despesas = candidaturas['VR_DESPESA_MAX_CAMPANHA'].sum()"
      ]
    },
    {
      "cell_type": "code",
      "execution_count": null,
      "id": "b9ffa7da-e637-434c-90e7-c1b1549348da",
      "metadata": {
        "id": "b9ffa7da-e637-434c-90e7-c1b1549348da",
        "outputId": "db1660ef-2201-4e4a-c6ea-7af80abfbae5"
      },
      "outputs": [
        {
          "data": {
            "text/plain": [
              "1968851.7"
            ]
          },
          "execution_count": 33,
          "metadata": {},
          "output_type": "execute_result"
        }
      ],
      "source": [
        "round(candidaturas['VR_DESPESA_MAX_CAMPANHA'].mean(), 2)"
      ]
    }
  ],
  "metadata": {
    "kernelspec": {
      "display_name": "Python 3 (ipykernel)",
      "language": "python",
      "name": "python3"
    },
    "language_info": {
      "codemirror_mode": {
        "name": "ipython",
        "version": 3
      },
      "file_extension": ".py",
      "mimetype": "text/x-python",
      "name": "python",
      "nbconvert_exporter": "python",
      "pygments_lexer": "ipython3",
      "version": "3.10.6"
    },
    "colab": {
      "provenance": [],
      "include_colab_link": true
    }
  },
  "nbformat": 4,
  "nbformat_minor": 5
}